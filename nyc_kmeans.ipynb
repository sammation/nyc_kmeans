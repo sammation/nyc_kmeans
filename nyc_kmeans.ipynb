{
 "cells": [
  {
   "cell_type": "code",
   "execution_count": 2,
   "metadata": {},
   "outputs": [],
   "source": [
    "import numpy as np \n",
    "import json\n",
    "import matplotlib.pyplot as plt\n",
    "%matplotlib inline\n",
    "from sklearn.cluster import KMeans"
   ]
  },
  {
   "cell_type": "markdown",
   "metadata": {},
   "source": [
    "We've already downloaded the data, it's saved in `rows.json`. Let's load it up and take a look. "
   ]
  },
  {
   "cell_type": "code",
   "execution_count": 3,
   "metadata": {},
   "outputs": [],
   "source": [
    "with open(\"rows.json\") as infile:\n",
    "    raw_data = json.load(infile)"
   ]
  },
  {
   "cell_type": "code",
   "execution_count": 4,
   "metadata": {},
   "outputs": [
    {
     "data": {
      "text/plain": [
       "{'view': {'id': 'kk4q-3rt2',\n",
       "  'name': 'DOITT_SUBWAY_STATION_01_13SEPT2010',\n",
       "  'averageRating': 0,\n",
       "  'createdAt': 1365616359,\n",
       "  'displayType': 'geoRows',\n",
       "  'downloadCount': 7138,\n",
       "  'hideFromCatalog': False,\n",
       "  'hideFromDataJson': False,\n",
       "  'indexUpdatedAt': 1536598438,\n",
       "  'newBackend': True,\n",
       "  'numberOfComments': 0,\n",
       "  'oid': 25218884,\n",
       "  'provenance': 'community',\n",
       "  'publicationAppendEnabled': False,\n",
       "  'publicationDate': 1483632012,\n",
       "  'publicationGroup': 6269808,\n",
       "  'publicationStage': 'published',\n",
       "  'rowsUpdatedAt': 1483632011,\n",
       "  'rowsUpdatedBy': '5fuc-pqz2',\n",
       "  'tableId': 13984620,\n",
       "  'totalTimesRated': 0,\n",
       "  'viewCount': 66,\n",
       "  'viewLastModified': 1536598169,\n",
       "  'viewType': 'tabular',\n",
       "  'childViews': [''],\n",
       "  'columns': [{'id': -1,\n",
       "    'name': 'sid',\n",
       "    'dataTypeName': 'meta_data',\n",
       "    'fieldName': ':sid',\n",
       "    'position': 0,\n",
       "    'renderTypeName': 'meta_data',\n",
       "    'format': {},\n",
       "    'flags': ['hidden']},\n",
       "   {'id': -1,\n",
       "    'name': 'id',\n",
       "    'dataTypeName': 'meta_data',\n",
       "    'fieldName': ':id',\n",
       "    'position': 0,\n",
       "    'renderTypeName': 'meta_data',\n",
       "    'format': {},\n",
       "    'flags': ['hidden']},\n",
       "   {'id': -1,\n",
       "    'name': 'position',\n",
       "    'dataTypeName': 'meta_data',\n",
       "    'fieldName': ':position',\n",
       "    'position': 0,\n",
       "    'renderTypeName': 'meta_data',\n",
       "    'format': {},\n",
       "    'flags': ['hidden']},\n",
       "   {'id': -1,\n",
       "    'name': 'created_at',\n",
       "    'dataTypeName': 'meta_data',\n",
       "    'fieldName': ':created_at',\n",
       "    'position': 0,\n",
       "    'renderTypeName': 'meta_data',\n",
       "    'format': {},\n",
       "    'flags': ['hidden']},\n",
       "   {'id': -1,\n",
       "    'name': 'created_meta',\n",
       "    'dataTypeName': 'meta_data',\n",
       "    'fieldName': ':created_meta',\n",
       "    'position': 0,\n",
       "    'renderTypeName': 'meta_data',\n",
       "    'format': {},\n",
       "    'flags': ['hidden']},\n",
       "   {'id': -1,\n",
       "    'name': 'updated_at',\n",
       "    'dataTypeName': 'meta_data',\n",
       "    'fieldName': ':updated_at',\n",
       "    'position': 0,\n",
       "    'renderTypeName': 'meta_data',\n",
       "    'format': {},\n",
       "    'flags': ['hidden']},\n",
       "   {'id': -1,\n",
       "    'name': 'updated_meta',\n",
       "    'dataTypeName': 'meta_data',\n",
       "    'fieldName': ':updated_meta',\n",
       "    'position': 0,\n",
       "    'renderTypeName': 'meta_data',\n",
       "    'format': {},\n",
       "    'flags': ['hidden']},\n",
       "   {'id': -1,\n",
       "    'name': 'meta',\n",
       "    'dataTypeName': 'meta_data',\n",
       "    'fieldName': ':meta',\n",
       "    'position': 0,\n",
       "    'renderTypeName': 'meta_data',\n",
       "    'format': {},\n",
       "    'flags': ['hidden']},\n",
       "   {'id': 284966959,\n",
       "    'name': 'URL',\n",
       "    'dataTypeName': 'text',\n",
       "    'fieldName': 'url',\n",
       "    'position': 1,\n",
       "    'renderTypeName': 'text',\n",
       "    'tableColumnId': 42412582,\n",
       "    'format': {}},\n",
       "   {'id': 284966960,\n",
       "    'name': 'OBJECTID',\n",
       "    'dataTypeName': 'number',\n",
       "    'fieldName': 'objectid',\n",
       "    'position': 2,\n",
       "    'renderTypeName': 'number',\n",
       "    'tableColumnId': 42412583,\n",
       "    'format': {}},\n",
       "   {'id': 284966962,\n",
       "    'name': 'NAME',\n",
       "    'dataTypeName': 'text',\n",
       "    'fieldName': 'name',\n",
       "    'position': 3,\n",
       "    'renderTypeName': 'text',\n",
       "    'tableColumnId': 42412585,\n",
       "    'format': {}},\n",
       "   {'id': 284966963,\n",
       "    'name': 'the_geom',\n",
       "    'dataTypeName': 'point',\n",
       "    'fieldName': 'the_geom',\n",
       "    'position': 4,\n",
       "    'renderTypeName': 'point',\n",
       "    'tableColumnId': 42412586,\n",
       "    'format': {}},\n",
       "   {'id': 284966964,\n",
       "    'name': 'LINE',\n",
       "    'dataTypeName': 'text',\n",
       "    'fieldName': 'line',\n",
       "    'position': 5,\n",
       "    'renderTypeName': 'text',\n",
       "    'tableColumnId': 42412587,\n",
       "    'format': {}},\n",
       "   {'id': 284966965,\n",
       "    'name': 'NOTES',\n",
       "    'dataTypeName': 'text',\n",
       "    'fieldName': 'notes',\n",
       "    'position': 6,\n",
       "    'renderTypeName': 'text',\n",
       "    'tableColumnId': 42412588,\n",
       "    'format': {}}],\n",
       "  'displayFormat': {'distinctLegend': True,\n",
       "   'bkgdLayers': [{'layerKey': 'Google Roadmap',\n",
       "     'alias': 'Google',\n",
       "     'opacity': 1},\n",
       "    {'layerKey': 'World Street Map (ESRI)', 'alias': 'ESRI', 'opacity': 1}],\n",
       "   'exclusiveLayers': True,\n",
       "   'viewDefinitions': [{'uid': 'self'}]},\n",
       "  'grants': [{'inherited': False, 'type': 'viewer', 'flags': ['public']}],\n",
       "  'metadata': {'geo': {'parentUid': 'arq3-7z49', 'isNbe': True},\n",
       "   'custom_fields': {'Update': {'Date Made Public': '6/28/2013'}},\n",
       "   'availableDisplayTypes': ['geoRows', 'table', 'fatrow', 'page'],\n",
       "   'renderTypeConfig': {'visible': {'geoRows': True}}},\n",
       "  'owner': {'id': 'qy85-itiy',\n",
       "   'displayName': 'gneuhaus',\n",
       "   'profileImageUrlLarge': '/api/users/qy85-itiy/profile_images/LARGE',\n",
       "   'profileImageUrlMedium': '/api/users/qy85-itiy/profile_images/THUMB',\n",
       "   'profileImageUrlSmall': '/api/users/qy85-itiy/profile_images/TINY',\n",
       "   'screenName': 'gneuhaus',\n",
       "   'type': 'interactive'},\n",
       "  'query': {},\n",
       "  'rights': ['read'],\n",
       "  'tableAuthor': {'id': 'qy85-itiy',\n",
       "   'displayName': 'gneuhaus',\n",
       "   'profileImageUrlLarge': '/api/users/qy85-itiy/profile_images/LARGE',\n",
       "   'profileImageUrlMedium': '/api/users/qy85-itiy/profile_images/THUMB',\n",
       "   'profileImageUrlSmall': '/api/users/qy85-itiy/profile_images/TINY',\n",
       "   'screenName': 'gneuhaus',\n",
       "   'type': 'interactive'},\n",
       "  'flags': ['default', 'restorable', 'restorePossibleForType']}}"
      ]
     },
     "execution_count": 4,
     "metadata": {},
     "output_type": "execute_result"
    }
   ],
   "source": [
    "raw_data[\"meta\"]"
   ]
  },
  {
   "cell_type": "markdown",
   "metadata": {},
   "source": [
    "Let's take a look at the column names. "
   ]
  },
  {
   "cell_type": "code",
   "execution_count": 8,
   "metadata": {},
   "outputs": [
    {
     "data": {
      "text/plain": [
       "[(0, 'sid'),\n",
       " (1, 'id'),\n",
       " (2, 'position'),\n",
       " (3, 'created_at'),\n",
       " (4, 'created_meta'),\n",
       " (5, 'updated_at'),\n",
       " (6, 'updated_meta'),\n",
       " (7, 'meta'),\n",
       " (8, 'URL'),\n",
       " (9, 'OBJECTID'),\n",
       " (10, 'NAME'),\n",
       " (11, 'the_geom'),\n",
       " (12, 'LINE'),\n",
       " (13, 'NOTES')]"
      ]
     },
     "execution_count": 8,
     "metadata": {},
     "output_type": "execute_result"
    }
   ],
   "source": [
    "[(col_num, column['name']) for col_num, column in enumerate(raw_data[\"meta\"][\"view\"][\"columns\"])]"
   ]
  },
  {
   "cell_type": "markdown",
   "metadata": {},
   "source": [
    "Looks like we'll need column #11, `the_geom`, to get the location of the subway stations. A quick look at the data confirms that. \n",
    "\n",
    "We'll also do some light parsing along the way. There's lots of ways that we can do that parsing (regular expressions spring to mind), but luckily the data is well formatted. We'll use simple string indexing and splitting."
   ]
  },
  {
   "cell_type": "code",
   "execution_count": 9,
   "metadata": {},
   "outputs": [
    {
     "data": {
      "text/plain": [
       "[['row-hqqp-jv95~d248',\n",
       "  '00000000-0000-0000-A646-D9D5D103F621',\n",
       "  0,\n",
       "  1483632011,\n",
       "  None,\n",
       "  1483632011,\n",
       "  None,\n",
       "  '{ }',\n",
       "  'http://web.mta.info/nyct/service/',\n",
       "  '1',\n",
       "  'Astor Pl',\n",
       "  'POINT (-73.99106999861966 40.73005400028978)',\n",
       "  '4-6-6 Express',\n",
       "  '4 nights, 6-all times, 6 Express-weekdays AM southbound, PM northbound'],\n",
       " ['row-ycef.zkxu~7mju',\n",
       "  '00000000-0000-0000-2B57-C78D7CB77F19',\n",
       "  0,\n",
       "  1483632011,\n",
       "  None,\n",
       "  1483632011,\n",
       "  None,\n",
       "  '{ }',\n",
       "  'http://web.mta.info/nyct/service/',\n",
       "  '2',\n",
       "  'Canal St',\n",
       "  'POINT (-74.00019299927328 40.71880300107709)',\n",
       "  '4-6-6 Express',\n",
       "  '4 nights, 6-all times, 6 Express-weekdays AM southbound, PM northbound'],\n",
       " ['row-spi7_av9a~yip3',\n",
       "  '00000000-0000-0000-C1A9-163DA9A569FC',\n",
       "  0,\n",
       "  1483632011,\n",
       "  None,\n",
       "  1483632011,\n",
       "  None,\n",
       "  '{ }',\n",
       "  'http://web.mta.info/nyct/service/',\n",
       "  '3',\n",
       "  '50th St',\n",
       "  'POINT (-73.98384899986625 40.76172799961419)',\n",
       "  '1-2',\n",
       "  '1-all times, 2-nights']]"
      ]
     },
     "execution_count": 9,
     "metadata": {},
     "output_type": "execute_result"
    }
   ],
   "source": [
    "raw_data[\"data\"][:3]"
   ]
  },
  {
   "cell_type": "code",
   "execution_count": 13,
   "metadata": {},
   "outputs": [
    {
     "data": {
      "text/plain": [
       "array([[-73.99107 ,  40.730054],\n",
       "       [-74.000193,  40.718803],\n",
       "       [-73.983849,  40.761728]])"
      ]
     },
     "execution_count": 13,
     "metadata": {},
     "output_type": "execute_result"
    }
   ],
   "source": [
    "points = np.asarray([row[11][7:-1].split() for row in raw_data[\"data\"]], dtype=np.float64)\n",
    "points[:3]"
   ]
  },
  {
   "cell_type": "code",
   "execution_count": 15,
   "metadata": {},
   "outputs": [
    {
     "data": {
      "text/plain": [
       "(array([-73.99107 , -74.000193, -73.983849]),\n",
       " array([40.730054, 40.718803, 40.761728]))"
      ]
     },
     "execution_count": 15,
     "metadata": {},
     "output_type": "execute_result"
    }
   ],
   "source": [
    "X, Y = points[:,0], points[:,1]\n",
    "X[:3], Y[:3]"
   ]
  },
  {
   "cell_type": "markdown",
   "metadata": {},
   "source": [
    "Let's plot what we have for now to make sure we're looking at the right stuff. "
   ]
  },
  {
   "cell_type": "code",
   "execution_count": 18,
   "metadata": {},
   "outputs": [
    {
     "data": {
      "text/plain": [
       "Text(0,0.5,'Latitude')"
      ]
     },
     "execution_count": 18,
     "metadata": {},
     "output_type": "execute_result"
    },
    {
     "data": {
      "image/png": "[encoded data removed]",
      "text/plain": [
       "<Figure size 432x288 with 1 Axes>"
      ]
     },
     "metadata": {},
     "output_type": "display_data"
    }
   ],
   "source": [
    "plt.plot(X, Y, 'bo')\n",
    "plt.title('NYC Subway Stations')\n",
    "plt.xlabel('Longitude')\n",
    "plt.ylabel('Latitude')"
   ]
  },
  {
   "cell_type": "markdown",
   "metadata": {},
   "source": [
    "Let's see if we can use KMeans Clustering to \"learn\" the 5 boroughs. "
   ]
  },
  {
   "cell_type": "code",
   "execution_count": 20,
   "metadata": {},
   "outputs": [],
   "source": [
    "classifier = KMeans(n_clusters=5, n_init=20, max_iter=500, n_jobs=-1)\n",
    "kmeans = classifier.fit(points) "
   ]
  },
  {
   "cell_type": "markdown",
   "metadata": {},
   "source": [
    "Let's take a look at what our classifier thinks. We'll add some color to differentiate the 5 categories. "
   ]
  },
  {
   "cell_type": "code",
   "execution_count": 22,
   "metadata": {},
   "outputs": [
    {
     "data": {
      "text/plain": [
       "Text(0,0.5,'Latitude')"
      ]
     },
     "execution_count": 22,
     "metadata": {},
     "output_type": "execute_result"
    },
    {
     "data": {
      "image/png": "[encoded data removed]",
      "text/plain": [
       "<Figure size 432x288 with 1 Axes>"
      ]
     },
     "metadata": {},
     "output_type": "display_data"
    }
   ],
   "source": [
    "colors = [color for color in \"rgbyk\"]\n",
    "plt.scatter(X, Y, c=[colors[label] for label in kmeans.labels_])\n",
    "plt.title('NYC Subway Stations - Classified')\n",
    "plt.xlabel('Longitude')\n",
    "plt.ylabel('Latitude') "
   ]
  },
  {
   "cell_type": "markdown",
   "metadata": {},
   "source": [
    "The classifier did a reasonably good job of learning Manhattan(black) and the Bronx(green). A lot of Brooklyn(blue) was swallowed up in a Brooklyn/Queens hybrid(red). Apparently it's time to say goodbye to Staten Island and replace it with East Queens(yellow). "
   ]
  },
  {
   "cell_type": "markdown",
   "metadata": {},
   "source": [
    "In the future I'd like to try other clustering techniques, such as mean-shift or Gaussian mixtures. I'd also like to label the stations so that we can start getting some formal measure of error. "
   ]
  },
  {
   "cell_type": "code",
   "execution_count": null,
   "metadata": {},
   "outputs": [],
   "source": []
  }
 ],
 "metadata": {
  "kernelspec": {
   "display_name": "Python 3",
   "language": "python",
   "name": "python3"
  },
  "language_info": {
   "codemirror_mode": {
    "name": "ipython",
    "version": 3
   },
   "file_extension": ".py",
   "mimetype": "text/x-python",
   "name": "python",
   "nbconvert_exporter": "python",
   "pygments_lexer": "ipython3",
   "version": "3.6.5"
  }
 },
 "nbformat": 4,
 "nbformat_minor": 2
}
